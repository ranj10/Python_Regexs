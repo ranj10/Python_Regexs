{
  "nbformat": 4,
  "nbformat_minor": 0,
  "metadata": {
    "colab": {
      "provenance": [],
      "include_colab_link": true
    },
    "kernelspec": {
      "name": "python3",
      "display_name": "Python 3"
    },
    "language_info": {
      "name": "python"
    }
  },
  "cells": [
    {
      "cell_type": "markdown",
      "metadata": {
        "id": "view-in-github",
        "colab_type": "text"
      },
      "source": [
        "<a href=\"https://colab.research.google.com/github/ranj10/Python_Regexs/blob/main/Python_Regexs.ipynb\" target=\"_parent\"><img src=\"https://colab.research.google.com/assets/colab-badge.svg\" alt=\"Open In Colab\"/></a>"
      ]
    },
    {
      "cell_type": "code",
      "execution_count": null,
      "metadata": {
        "id": "ngWEDCg4A6lh"
      },
      "outputs": [],
      "source": [
        "import re"
      ]
    },
    {
      "cell_type": "code",
      "source": [
        "# raw string\n",
        "s = \"a\\tb\"\n",
        "print(s)"
      ],
      "metadata": {
        "colab": {
          "base_uri": "https://localhost:8080/"
        },
        "id": "bPB0FNzDBjQE",
        "outputId": "4d5cee16-247e-4f54-ee1a-07695dc6c9de"
      },
      "execution_count": null,
      "outputs": [
        {
          "output_type": "stream",
          "name": "stdout",
          "text": [
            "a\tb\n"
          ]
        }
      ]
    },
    {
      "cell_type": "code",
      "source": [
        "raw_s = r\"a\\tb\"\n",
        "print(raw_s)"
      ],
      "metadata": {
        "colab": {
          "base_uri": "https://localhost:8080/"
        },
        "id": "RsoUgSPgByQs",
        "outputId": "98769ae4-c507-4667-91e6-e626661ddea6"
      },
      "execution_count": null,
      "outputs": [
        {
          "output_type": "stream",
          "name": "stdout",
          "text": [
            "a\\tb\n"
          ]
        }
      ]
    },
    {
      "cell_type": "markdown",
      "source": [
        "## Regex\n",
        "1. pattern\n",
        "2. Text\n",
        "3. Function"
      ],
      "metadata": {
        "id": "-8deVXk6v2qx"
      }
    },
    {
      "cell_type": "markdown",
      "source": [
        "### Match function"
      ],
      "metadata": {
        "id": "GgWk1JwgwdHQ"
      }
    },
    {
      "cell_type": "code",
      "source": [
        "# To get digits in a string\n",
        "pattern = r\"\\d+\"\n",
        "\n",
        "string = \"7 is my lucky number\""
      ],
      "metadata": {
        "id": "e0VmdIZ7CKKu"
      },
      "execution_count": null,
      "outputs": []
    },
    {
      "cell_type": "code",
      "source": [
        "matches = re.match(pattern, string)"
      ],
      "metadata": {
        "id": "WJ2SbiXQClDI"
      },
      "execution_count": null,
      "outputs": []
    },
    {
      "cell_type": "code",
      "source": [
        "if matches:\n",
        "  print(\"Success\")\n",
        "  print(matches.group(0))\n",
        "  print(matches.start())\n",
        "else:\n",
        "  print(\"No match\")"
      ],
      "metadata": {
        "colab": {
          "base_uri": "https://localhost:8080/"
        },
        "id": "aghFA_QHCrZp",
        "outputId": "f60646d8-1405-4ee8-9638-ffd4d271781b"
      },
      "execution_count": null,
      "outputs": [
        {
          "output_type": "stream",
          "name": "stdout",
          "text": [
            "Success\n",
            "7\n",
            "0\n"
          ]
        }
      ]
    },
    {
      "cell_type": "markdown",
      "source": [
        "## Search function"
      ],
      "metadata": {
        "id": "iYJczhs3w8Mc"
      }
    },
    {
      "cell_type": "code",
      "source": [
        "pattern = r\"\\d+\"\n",
        "\n",
        "string = \"My lucky numbers are 451 and 781\"\n",
        "\n",
        "matches = re.search(pattern, string)\n",
        "\n",
        "if matches:\n",
        "  print(\"Success\")\n",
        "  print(matches.group(0))\n",
        "  print(matches.start())\n",
        "else:\n",
        "  print(\"No match\")"
      ],
      "metadata": {
        "colab": {
          "base_uri": "https://localhost:8080/"
        },
        "id": "zezth3SsEVmN",
        "outputId": "899f2e32-2b73-4de1-dbff-2899b0fae9c9"
      },
      "execution_count": null,
      "outputs": [
        {
          "output_type": "stream",
          "name": "stdout",
          "text": [
            "Success\n",
            "451\n",
            "21\n"
          ]
        }
      ]
    },
    {
      "cell_type": "markdown",
      "source": [
        "## Findall function"
      ],
      "metadata": {
        "id": "F-Lt8zv_xGJo"
      }
    },
    {
      "cell_type": "code",
      "source": [
        "pattern  = r\"\\d+\"\n",
        "\n",
        "text  = \"codes are 100, 200, 3784\"\n",
        "\n",
        "re.findall(pattern, text)"
      ],
      "metadata": {
        "colab": {
          "base_uri": "https://localhost:8080/"
        },
        "id": "SAgT09B9GbeT",
        "outputId": "7908a9a5-3d96-4890-f09d-e86b1f2b8a00"
      },
      "execution_count": null,
      "outputs": [
        {
          "output_type": "execute_result",
          "data": {
            "text/plain": [
              "['100', '200', '3000']"
            ]
          },
          "metadata": {},
          "execution_count": 31
        }
      ]
    },
    {
      "cell_type": "markdown",
      "source": [
        "## Groups"
      ],
      "metadata": {
        "id": "t8V2JkkOxbKb"
      }
    },
    {
      "cell_type": "code",
      "source": [
        "pattern = r\"\\d+\"\n",
        "\n",
        "string = \"Startdate: 20230204\"\n",
        "\n",
        "matches = re.search(pattern, string)\n",
        "\n",
        "if matches:\n",
        "  print(\"Success\")\n",
        "  print(matches.group(0))\n",
        "else:\n",
        "  print(\"No match\")"
      ],
      "metadata": {
        "colab": {
          "base_uri": "https://localhost:8080/"
        },
        "id": "fYAO6HpUxoug",
        "outputId": "293086c3-ed7b-4d0d-b4f8-4d4e7bfd75c4"
      },
      "execution_count": null,
      "outputs": [
        {
          "output_type": "stream",
          "name": "stdout",
          "text": [
            "Success\n",
            "20230204\n"
          ]
        }
      ]
    },
    {
      "cell_type": "code",
      "source": [
        "pattern = r\"(\\d{4})(\\d{2})(\\d{2})\"\n",
        "\n",
        "string = \"Startdate: 20230201\"\n",
        "\n",
        "matches = re.search(pattern, string)\n",
        "\n",
        "if matches:\n",
        "  print(\"Success\")\n",
        "else:\n",
        "  print(\"No match\")\n",
        "\n",
        "for i, j in enumerate(matches.groups()):\n",
        "  print(i, j)"
      ],
      "metadata": {
        "colab": {
          "base_uri": "https://localhost:8080/"
        },
        "id": "uBGDtvWeHL_Y",
        "outputId": "d86560c6-27b3-47af-ebb2-cfd387c58da6"
      },
      "execution_count": null,
      "outputs": [
        {
          "output_type": "stream",
          "name": "stdout",
          "text": [
            "Success\n",
            "0 2023\n",
            "1 02\n",
            "2 01\n"
          ]
        }
      ]
    },
    {
      "cell_type": "markdown",
      "source": [
        "## Naming a group"
      ],
      "metadata": {
        "id": "4wHXGHehyo_P"
      }
    },
    {
      "cell_type": "code",
      "source": [
        "pattern = r\"(?P<year>\\d{4})(?P<month>\\d{2})(?P<day>\\d{2})\"\n",
        "\n",
        "string = \"Startdate: 20230201\"\n",
        "\n",
        "matches = re.search(pattern, string)\n",
        "\n",
        "if matches:\n",
        "  print(\"Success\")\n",
        "else:\n",
        "  print(\"No match\")\n",
        "\n",
        "for i in matches.groupdict().items():\n",
        "  print(i)\n"
      ],
      "metadata": {
        "colab": {
          "base_uri": "https://localhost:8080/"
        },
        "id": "hB7xSnqoHhry",
        "outputId": "9d2447d1-8f4e-4a44-bdd6-33a7df2be869"
      },
      "execution_count": null,
      "outputs": [
        {
          "output_type": "stream",
          "name": "stdout",
          "text": [
            "Success\n",
            "('year', '2023')\n",
            "('month', '02')\n",
            "('day', '01')\n"
          ]
        }
      ]
    },
    {
      "cell_type": "code",
      "source": [
        "matches.group(\"year\")"
      ],
      "metadata": {
        "colab": {
          "base_uri": "https://localhost:8080/",
          "height": 36
        },
        "id": "4Uqt1117Jdbr",
        "outputId": "906a2bac-f288-497b-a79d-4fca28d6a6cf"
      },
      "execution_count": null,
      "outputs": [
        {
          "output_type": "execute_result",
          "data": {
            "text/plain": [
              "'2023'"
            ],
            "application/vnd.google.colaboratory.intrinsic+json": {
              "type": "string"
            }
          },
          "metadata": {},
          "execution_count": 42
        }
      ]
    },
    {
      "cell_type": "markdown",
      "source": [
        "## Replace: Used to format a string\n",
        "1. pattern\n",
        "2. replacement pattern\n",
        "3. text"
      ],
      "metadata": {
        "id": "rlimNKW6zHRw"
      }
    },
    {
      "cell_type": "code",
      "source": [
        "pattern = r\"(?P<year>\\d{4})(?P<month>\\d{2})(?P<day>\\d{2})\"\n",
        "\n",
        "text = \"startdate: 20230201, enddate: 20230205\"\n",
        "\n",
        "replacement  = r\"\\g<month>-\\g<day>-\\g<year>\"\n",
        "re.sub(pattern, replacement, text)"
      ],
      "metadata": {
        "colab": {
          "base_uri": "https://localhost:8080/",
          "height": 36
        },
        "id": "t69-uM9FJrCN",
        "outputId": "3105f48c-ffa1-4a3d-8656-a84b8fdba149"
      },
      "execution_count": null,
      "outputs": [
        {
          "output_type": "execute_result",
          "data": {
            "text/plain": [
              "'startdate: 02-01-2023, enddate: 02-05-2023'"
            ],
            "application/vnd.google.colaboratory.intrinsic+json": {
              "type": "string"
            }
          },
          "metadata": {},
          "execution_count": 47
        }
      ]
    },
    {
      "cell_type": "code",
      "source": [
        "import datetime\n",
        "def format_date(match):\n",
        "  indate = match.groupdict()\n",
        "  year = int(indate[\"year\"])\n",
        "  month = int(indate[\"month\"])\n",
        "  day = int(indate[\"day\"])\n",
        "\n",
        "  return datetime.date(year, month, day).strftime('%b-%d-%y')\n"
      ],
      "metadata": {
        "id": "sWPQTLQFM5kB"
      },
      "execution_count": null,
      "outputs": []
    },
    {
      "cell_type": "code",
      "source": [
        "pattern = r\"(?P<year>\\d{4})(?P<month>\\d{2})(?P<day>\\d{2})\"\n",
        "text = \"startdate: 20230201, enddate: 20230205\"\n",
        "\n",
        "re.sub(pattern, format_date, text)"
      ],
      "metadata": {
        "colab": {
          "base_uri": "https://localhost:8080/",
          "height": 36
        },
        "id": "DuMOb1G6NrGS",
        "outputId": "5a82edf6-4601-4eef-c0e4-1d89e0c2e92f"
      },
      "execution_count": null,
      "outputs": [
        {
          "output_type": "execute_result",
          "data": {
            "text/plain": [
              "'startdate: Feb-01-23, enddate: Feb-05-23'"
            ],
            "application/vnd.google.colaboratory.intrinsic+json": {
              "type": "string"
            }
          },
          "metadata": {},
          "execution_count": 53
        }
      ]
    },
    {
      "cell_type": "markdown",
      "source": [
        "## Split function"
      ],
      "metadata": {
        "id": "GIL7VjWn0E_i"
      }
    },
    {
      "cell_type": "code",
      "source": [
        "pattern = r\",\"\n",
        "\n",
        "text = \"fgv, gjym, fjtj\"\n",
        "\n",
        "re.split(pattern, text)"
      ],
      "metadata": {
        "colab": {
          "base_uri": "https://localhost:8080/"
        },
        "id": "mvIDZGFYNyMp",
        "outputId": "e8405423-3041-4915-80ca-b3c749ed622b"
      },
      "execution_count": null,
      "outputs": [
        {
          "output_type": "execute_result",
          "data": {
            "text/plain": [
              "['fgv', ' gjym', ' fjtj']"
            ]
          },
          "metadata": {},
          "execution_count": 77
        }
      ]
    },
    {
      "cell_type": "markdown",
      "source": [
        "## Characters"
      ],
      "metadata": {
        "id": "CiryfYCr0iNK"
      }
    },
    {
      "cell_type": "code",
      "source": [
        "pattern = r\"a\"\n",
        "text = \"this is a great test\"\n",
        "re.findall(pattern, text)"
      ],
      "metadata": {
        "colab": {
          "base_uri": "https://localhost:8080/"
        },
        "id": "BM649Z4U0Qo2",
        "outputId": "a71bbeb4-0fc7-4654-f061-b30d821133bc"
      },
      "execution_count": null,
      "outputs": [
        {
          "output_type": "execute_result",
          "data": {
            "text/plain": [
              "['a', 'a']"
            ]
          },
          "metadata": {},
          "execution_count": 57
        }
      ]
    },
    {
      "cell_type": "markdown",
      "source": [
        "## Pattern is case sensitive"
      ],
      "metadata": {
        "id": "C40zTVhv0KGu"
      }
    },
    {
      "cell_type": "code",
      "source": [
        "pattern = r\"A\"\n",
        "text = \"this is a great test\"\n",
        "re.findall(pattern, text)"
      ],
      "metadata": {
        "id": "g3EnslceA5js",
        "colab": {
          "base_uri": "https://localhost:8080/"
        },
        "outputId": "5d97d778-9846-4253-ab8a-270816db74fb"
      },
      "execution_count": null,
      "outputs": [
        {
          "output_type": "execute_result",
          "data": {
            "text/plain": [
              "[]"
            ]
          },
          "metadata": {},
          "execution_count": 59
        }
      ]
    },
    {
      "cell_type": "code",
      "source": [
        "pattern = r\"(?i)A\"\n",
        "text = \"this is a great test\"\n",
        "re.findall(pattern, text)"
      ],
      "metadata": {
        "colab": {
          "base_uri": "https://localhost:8080/"
        },
        "id": "NntcK0jL0tnj",
        "outputId": "b538535b-792e-47e5-ff63-f0c78aabdfcd"
      },
      "execution_count": null,
      "outputs": [
        {
          "output_type": "execute_result",
          "data": {
            "text/plain": [
              "['a', 'a']"
            ]
          },
          "metadata": {},
          "execution_count": 60
        }
      ]
    },
    {
      "cell_type": "markdown",
      "source": [
        "## List of characters"
      ],
      "metadata": {
        "id": "NMCiI67n0wqb"
      }
    },
    {
      "cell_type": "code",
      "source": [
        "pattern = r\"b|i|g\"\n",
        "text = \"this is the biggest test\"\n",
        "re.findall(pattern, text)"
      ],
      "metadata": {
        "colab": {
          "base_uri": "https://localhost:8080/"
        },
        "id": "MBOACKBs1LXM",
        "outputId": "01cebb73-8fbe-47f4-b884-986a099d55db"
      },
      "execution_count": null,
      "outputs": [
        {
          "output_type": "execute_result",
          "data": {
            "text/plain": [
              "['i', 'i', 'b', 'i', 'g', 'g']"
            ]
          },
          "metadata": {},
          "execution_count": 66
        }
      ]
    },
    {
      "cell_type": "code",
      "source": [
        "pattern = r\"[big]\""
      ],
      "metadata": {
        "id": "0v3x7439BFHd"
      },
      "execution_count": null,
      "outputs": []
    },
    {
      "cell_type": "code",
      "source": [
        "text = \"this is the biggest test\"\n",
        "re.findall(pattern, text)"
      ],
      "metadata": {
        "colab": {
          "base_uri": "https://localhost:8080/"
        },
        "id": "27SOUCwrBY1_",
        "outputId": "58c8e2d7-ac48-4276-a57c-a960abf26944"
      },
      "execution_count": null,
      "outputs": [
        {
          "output_type": "execute_result",
          "data": {
            "text/plain": [
              "['i', 'i', 'b', 'i', 'g', 'g']"
            ]
          },
          "metadata": {},
          "execution_count": 62
        }
      ]
    },
    {
      "cell_type": "markdown",
      "source": [
        "## WAP to check whether a string contains vowels or not"
      ],
      "metadata": {
        "id": "PtAB8Ob004CB"
      }
    },
    {
      "cell_type": "code",
      "source": [
        "pattern = r\"[aeiou]\"\n",
        "text = \"this is the biggest test\"\n",
        "a = re.findall(pattern, text)\n",
        "len(a)"
      ],
      "metadata": {
        "colab": {
          "base_uri": "https://localhost:8080/"
        },
        "id": "HpCDt4yW09GW",
        "outputId": "97f52aa9-0044-4c1e-a7f4-582511a55992"
      },
      "execution_count": null,
      "outputs": [
        {
          "output_type": "execute_result",
          "data": {
            "text/plain": [
              "6"
            ]
          },
          "metadata": {},
          "execution_count": 63
        }
      ]
    },
    {
      "cell_type": "code",
      "source": [
        "pattern = r\"[^aeiou]\"\n",
        "text = \"this is the biggest test\"\n",
        "a = re.findall(pattern, text)\n",
        "a"
      ],
      "metadata": {
        "id": "oO5QNfCJBbwK"
      },
      "execution_count": null,
      "outputs": []
    },
    {
      "cell_type": "code",
      "source": [
        "type(a)"
      ],
      "metadata": {
        "colab": {
          "base_uri": "https://localhost:8080/"
        },
        "id": "irTnx9xdCTOi",
        "outputId": "2c4df48a-4cc6-4fb4-9d4c-a4b498d0d0d9"
      },
      "execution_count": null,
      "outputs": [
        {
          "output_type": "execute_result",
          "data": {
            "text/plain": [
              "list"
            ]
          },
          "metadata": {},
          "execution_count": 20
        }
      ]
    },
    {
      "cell_type": "code",
      "source": [
        "pattern = r\"[^aeiou]\"\n",
        "text = \"this is the biggest test\"\n",
        "re.sub(pattern, \"-\", text)"
      ],
      "metadata": {
        "colab": {
          "base_uri": "https://localhost:8080/",
          "height": 36
        },
        "id": "739SrO9bCXuJ",
        "outputId": "417faa03-69a4-415c-831b-3b26ece81ace"
      },
      "execution_count": null,
      "outputs": [
        {
          "output_type": "execute_result",
          "data": {
            "text/plain": [
              "'--i--i----e--i--e----e--'"
            ],
            "application/vnd.google.colaboratory.intrinsic+json": {
              "type": "string"
            }
          },
          "metadata": {},
          "execution_count": 21
        }
      ]
    },
    {
      "cell_type": "code",
      "source": [
        "pattern = r\"[a-d]\"\n",
        "text = \"this is a big test\"\n",
        "re.findall(pattern, text)"
      ],
      "metadata": {
        "colab": {
          "base_uri": "https://localhost:8080/"
        },
        "id": "xYB47qKJCuM1",
        "outputId": "93198dd7-b824-4cde-f612-02b4a89e9215"
      },
      "execution_count": null,
      "outputs": [
        {
          "output_type": "execute_result",
          "data": {
            "text/plain": [
              "['a', 'b']"
            ]
          },
          "metadata": {},
          "execution_count": 67
        }
      ]
    },
    {
      "cell_type": "code",
      "source": [
        "pattern = r\"[a-dx-z0-3]\"\n",
        "text = \"this is a big test. why are you worrying? 7815\"\n",
        "re.findall(pattern, text)"
      ],
      "metadata": {
        "colab": {
          "base_uri": "https://localhost:8080/"
        },
        "id": "e2Mq4JRdDHgd",
        "outputId": "9089b214-8b47-44f1-a235-2367549a46a0"
      },
      "execution_count": null,
      "outputs": [
        {
          "output_type": "execute_result",
          "data": {
            "text/plain": [
              "['a', 'b', 'y', 'a', 'y', 'y', '1']"
            ]
          },
          "metadata": {},
          "execution_count": 69
        }
      ]
    },
    {
      "cell_type": "code",
      "source": [
        "pattern = r\"\\.\"\n",
        "text = \"\"\"this is a big test. why are you worrying? 7815891302\n",
        "hehe\"\"\"\n",
        "re.findall(pattern, text)"
      ],
      "metadata": {
        "colab": {
          "base_uri": "https://localhost:8080/"
        },
        "id": "KR7nezImD_jE",
        "outputId": "56f79ae7-3848-4e8b-a00f-982c0ed75b60"
      },
      "execution_count": null,
      "outputs": [
        {
          "output_type": "execute_result",
          "data": {
            "text/plain": [
              "['.']"
            ]
          },
          "metadata": {},
          "execution_count": 71
        }
      ]
    },
    {
      "cell_type": "code",
      "source": [
        "pattern = r\"[.]\"\n",
        "text = \"\"\"this is a big test. why are you worrying? 7815891302\n",
        "hehe\"\"\"\n",
        "re.findall(pattern, text)"
      ],
      "metadata": {
        "colab": {
          "base_uri": "https://localhost:8080/"
        },
        "id": "6UVnYAfCEeme",
        "outputId": "feb1dd7d-0c2c-4592-f0a4-14ead76c70aa"
      },
      "execution_count": null,
      "outputs": [
        {
          "output_type": "execute_result",
          "data": {
            "text/plain": [
              "['.']"
            ]
          },
          "metadata": {},
          "execution_count": 32
        }
      ]
    },
    {
      "cell_type": "markdown",
      "source": [
        "## Match words"
      ],
      "metadata": {
        "id": "GcfgZr_61zdW"
      }
    },
    {
      "cell_type": "code",
      "source": [
        "pattern = r\"log\"\n",
        "\n",
        "text = \"catalog of log\"\n",
        "\n",
        "re.findall(pattern, text)"
      ],
      "metadata": {
        "colab": {
          "base_uri": "https://localhost:8080/"
        },
        "id": "-jJderPM2BGG",
        "outputId": "bc1fbf9d-bc02-43df-a01f-8c765d36b698"
      },
      "execution_count": null,
      "outputs": [
        {
          "output_type": "execute_result",
          "data": {
            "text/plain": [
              "['log', 'log']"
            ]
          },
          "metadata": {},
          "execution_count": 73
        }
      ]
    },
    {
      "cell_type": "code",
      "source": [
        "pattern = r\"\\blog\\b\"\n",
        "\n",
        "text = \"catalog of log\"\n",
        "\n",
        "re.findall(pattern, text)"
      ],
      "metadata": {
        "colab": {
          "base_uri": "https://localhost:8080/"
        },
        "id": "ybfIDU6SEx0f",
        "outputId": "4193ed0e-adb2-4772-eb6a-6ba7b11a8c0b"
      },
      "execution_count": null,
      "outputs": [
        {
          "output_type": "execute_result",
          "data": {
            "text/plain": [
              "['log']"
            ]
          },
          "metadata": {},
          "execution_count": 74
        }
      ]
    },
    {
      "cell_type": "code",
      "source": [
        "pattern = r\"^apple\"\n",
        "\n",
        "text = \"apple grows on apple\"\n",
        "\n",
        "re.findall(pattern, text)"
      ],
      "metadata": {
        "colab": {
          "base_uri": "https://localhost:8080/"
        },
        "id": "HHqtpIvxI9L5",
        "outputId": "f501aed6-53bd-4704-cf32-e6450b61c034"
      },
      "execution_count": null,
      "outputs": [
        {
          "output_type": "execute_result",
          "data": {
            "text/plain": [
              "['apple']"
            ]
          },
          "metadata": {},
          "execution_count": 75
        }
      ]
    },
    {
      "cell_type": "code",
      "source": [
        "pattern = r\"apple$\"\n",
        "\n",
        "text = \"apple grows on apple\"\n",
        "\n",
        "re.findall(pattern, text)"
      ],
      "metadata": {
        "colab": {
          "base_uri": "https://localhost:8080/"
        },
        "id": "FxNDkLa82K-s",
        "outputId": "30fcb83d-e835-4696-b14f-effbbf4341b1"
      },
      "execution_count": null,
      "outputs": [
        {
          "output_type": "execute_result",
          "data": {
            "text/plain": [
              "['apple']"
            ]
          },
          "metadata": {},
          "execution_count": 76
        }
      ]
    },
    {
      "cell_type": "markdown",
      "source": [
        "## Multi-line match"
      ],
      "metadata": {
        "id": "DC5c2oUA2Ol3"
      }
    },
    {
      "cell_type": "code",
      "source": [
        "pattern = r\"(?m)^apple\"\n",
        "\n",
        "text = \"\"\"apple grows on apple tree\n",
        "apple is red\"\"\"\n",
        "re.findall(pattern, text)"
      ],
      "metadata": {
        "colab": {
          "base_uri": "https://localhost:8080/"
        },
        "id": "cHdnY7QVJSj3",
        "outputId": "ef62d91b-2d53-40ca-ac26-43047631b2b0"
      },
      "execution_count": null,
      "outputs": [
        {
          "output_type": "execute_result",
          "data": {
            "text/plain": [
              "['apple', 'apple']"
            ]
          },
          "metadata": {},
          "execution_count": 77
        }
      ]
    },
    {
      "cell_type": "code",
      "source": [
        "pattern = r\"(?m)apple$\"\n",
        "\n",
        "text = \"\"\"apple grows on apple\n",
        "apple is red\"\"\"\n",
        "re.findall(pattern, text)"
      ],
      "metadata": {
        "colab": {
          "base_uri": "https://localhost:8080/"
        },
        "id": "E8tkPqdzJnLf",
        "outputId": "5eaa7483-fbdd-4155-e66f-d9c24d9c28f4"
      },
      "execution_count": null,
      "outputs": [
        {
          "output_type": "execute_result",
          "data": {
            "text/plain": [
              "['apple']"
            ]
          },
          "metadata": {},
          "execution_count": 78
        }
      ]
    },
    {
      "cell_type": "markdown",
      "source": [
        "## Check for input validation"
      ],
      "metadata": {
        "id": "15IWrGYj2mvD"
      }
    },
    {
      "cell_type": "code",
      "source": [
        "pattern = r\"[a-z][0-9]\"\n",
        "\n",
        "text = \"\"\"a12451\n",
        "915445\n",
        "2d\n",
        "b2\"\"\"\n",
        "\n",
        "re.findall(pattern, text)"
      ],
      "metadata": {
        "colab": {
          "base_uri": "https://localhost:8080/"
        },
        "id": "17ZyRFExMSLI",
        "outputId": "84d16336-9d35-4293-e869-a46814ab2568"
      },
      "execution_count": null,
      "outputs": [
        {
          "output_type": "execute_result",
          "data": {
            "text/plain": [
              "['a1', 'b2']"
            ]
          },
          "metadata": {},
          "execution_count": 80
        }
      ]
    },
    {
      "cell_type": "code",
      "source": [
        "pattern = r\"[a-z][0-9]+\"\n",
        "\n",
        "text = \"\"\"a12451\n",
        "915445\n",
        "2d\n",
        "b2\"\"\"\n",
        "\n",
        "re.findall(pattern, text)"
      ],
      "metadata": {
        "colab": {
          "base_uri": "https://localhost:8080/"
        },
        "id": "p_c1FrM2M9ZA",
        "outputId": "3287a457-8c7a-4292-f040-da2bb867945b"
      },
      "execution_count": null,
      "outputs": [
        {
          "output_type": "execute_result",
          "data": {
            "text/plain": [
              "['a12451', 'b2']"
            ]
          },
          "metadata": {},
          "execution_count": 82
        }
      ]
    },
    {
      "cell_type": "markdown",
      "source": [
        "## Get all words"
      ],
      "metadata": {
        "id": "JQaRsML329Hv"
      }
    },
    {
      "cell_type": "code",
      "source": [
        "pattern = r\"\\w+\"\n",
        "text = \"Pine-apple Juice\"\n",
        "\n",
        "re.findall(pattern, text)"
      ],
      "metadata": {
        "colab": {
          "base_uri": "https://localhost:8080/"
        },
        "id": "vH_1PW62QRg-",
        "outputId": "9040de34-df89-4e41-c1e3-3fed393c3014"
      },
      "execution_count": null,
      "outputs": [
        {
          "output_type": "execute_result",
          "data": {
            "text/plain": [
              "['Pine', 'apple', 'Juice']"
            ]
          },
          "metadata": {},
          "execution_count": 84
        }
      ]
    },
    {
      "cell_type": "code",
      "source": [
        "# Practice problems\n",
        "# 1. Format the date from 20230204 to 04-Feb-2023\n",
        "# 2. Models get the Honda models\n",
        "\"\"\"\n",
        "text = Honda Civic\n",
        "Honda Accord\n",
        "Honda Insight\n",
        "Hyundai Accent\n",
        "Toyota Corolla\n",
        "Toyota Camry\n",
        "Toyota Prius\n",
        "Tesla Model 3\n",
        "\"\"\"\n",
        "# 3. Remove all the punctuation and replace it with empty string\n",
        "text = \"\"\"people have more $, when confronted with a problem! think\n",
        "... \"they can manage with $, But it will not!.\"\n",
        "... Now they have two problems.\"\"\"\n"
      ],
      "metadata": {
        "id": "fT0hLlKbSSIZ"
      },
      "execution_count": null,
      "outputs": []
    },
    {
      "cell_type": "code",
      "source": [
        "pattern = r\"(?im)^honda.+\"\n",
        "\n",
        "\n",
        "re.findall(pattern, text)"
      ],
      "metadata": {
        "colab": {
          "base_uri": "https://localhost:8080/"
        },
        "id": "OLJTbTWCRwPk",
        "outputId": "1f0ba923-4452-4558-8538-fb01d2672dde"
      },
      "execution_count": null,
      "outputs": [
        {
          "output_type": "execute_result",
          "data": {
            "text/plain": [
              "['Honda Civic', 'Honda Accord', 'Honda Insight']"
            ]
          },
          "metadata": {},
          "execution_count": 95
        }
      ]
    },
    {
      "cell_type": "code",
      "source": [
        "def remove_punctuatiuon(word):\n",
        "  pattern = r'[!?.:;,\"\\'()!\\$]'\n",
        "  return re.sub(pattern,\"\",word)"
      ],
      "metadata": {
        "id": "8Mgco9_86AQs"
      },
      "execution_count": null,
      "outputs": []
    },
    {
      "cell_type": "code",
      "source": [
        "text = \"\"\"people have more $, when confronted with a problem! think\n",
        "... \"they can manage with $, But it will not!.\"\n",
        "... Now they have two problems.\"\"\""
      ],
      "metadata": {
        "id": "lEUqFALz6Hvv"
      },
      "execution_count": null,
      "outputs": []
    },
    {
      "cell_type": "code",
      "source": [
        "list(map(remove_punctuatiuon, text.split()))"
      ],
      "metadata": {
        "colab": {
          "base_uri": "https://localhost:8080/"
        },
        "id": "3rLUjNSm6EXH",
        "outputId": "a8294366-3d9e-457a-cb1a-60379474dbb8"
      },
      "execution_count": null,
      "outputs": [
        {
          "output_type": "execute_result",
          "data": {
            "text/plain": [
              "['people',\n",
              " 'have',\n",
              " 'more',\n",
              " '',\n",
              " 'when',\n",
              " 'confronted',\n",
              " 'with',\n",
              " 'a',\n",
              " 'problem',\n",
              " 'think',\n",
              " 'they',\n",
              " 'can',\n",
              " 'manage',\n",
              " 'with',\n",
              " '',\n",
              " 'But',\n",
              " 'it',\n",
              " 'will',\n",
              " 'not',\n",
              " 'Now',\n",
              " 'they',\n",
              " 'have',\n",
              " 'two',\n",
              " 'problems']"
            ]
          },
          "metadata": {},
          "execution_count": 126
        }
      ]
    },
    {
      "cell_type": "code",
      "source": [],
      "metadata": {
        "id": "apnQyCN96Iuu"
      },
      "execution_count": null,
      "outputs": []
    }
  ]
}